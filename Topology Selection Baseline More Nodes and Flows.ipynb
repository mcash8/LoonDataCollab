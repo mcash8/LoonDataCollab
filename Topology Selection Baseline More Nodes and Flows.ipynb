{
 "cells": [
  {
   "cell_type": "code",
   "execution_count": 1,
   "id": "73648855-9b7f-479c-984d-152e9dd8adda",
   "metadata": {},
   "outputs": [],
   "source": [
    "from CommonImports import *\n",
    "from TopologySelectionAutomation import *\n",
    "\n",
    "np.set_printoptions(threshold=sys.maxsize)\n",
    "%matplotlib inline"
   ]
  },
  {
   "cell_type": "markdown",
   "id": "390e2f41-290f-4659-a9b8-52890b304d6f",
   "metadata": {},
   "source": [
    "### Only increasing number of nodes in the network\n",
    "##### num_nodes = 6, 8, 10 L_k = 48"
   ]
  },
  {
   "cell_type": "code",
   "execution_count": 12,
   "id": "f12aadd4-f5cf-497d-9cca-a77b766b6938",
   "metadata": {},
   "outputs": [],
   "source": [
    "#import capacities matrix or work with reduced matrix\n",
    "num_nodes = 6 #!--change this number and re-run cells--! \n",
    "capacity = np.load('capacity_array.npy') \n",
    "capacities, flt_ids = pruneCapacity(num_nodes, capacity) "
   ]
  },
  {
   "cell_type": "code",
   "execution_count": 13,
   "id": "34a54ebd-159d-43d3-bc25-a7541bd7e531",
   "metadata": {},
   "outputs": [
    {
     "name": "stdout",
     "output_type": "stream",
     "text": [
      "(23384, 6, 6)\n",
      "['LN-172' 'LN-179' 'LN-180' 'LN-201' 'LN-207' 'LN-214']\n"
     ]
    }
   ],
   "source": [
    "print(capacities.shape)\n",
    "print(flt_ids)"
   ]
  },
  {
   "cell_type": "code",
   "execution_count": 14,
   "id": "3fa37899-607f-4888-be01-95ba09738825",
   "metadata": {},
   "outputs": [
    {
     "name": "stdout",
     "output_type": "stream",
     "text": [
      "[[  0. 390.   0. 195. 987. 390.]\n",
      " [390.   0.   0. 987. 588. 987.]\n",
      " [  0.   0.   0.   0.   0.   0.]\n",
      " [195. 987.   0.   0. 390. 987.]\n",
      " [987. 588.   0. 390.   0. 588.]\n",
      " [390. 987.   0. 987. 588.   0.]]\n"
     ]
    }
   ],
   "source": [
    "capacity = capacities[5000, :, :]\n",
    "print(capacity)"
   ]
  },
  {
   "cell_type": "markdown",
   "id": "c792eee1-afbb-42db-b4da-e79646b7ab45",
   "metadata": {},
   "source": [
    "Run through time"
   ]
  },
  {
   "cell_type": "code",
   "execution_count": 16,
   "id": "c7d349c6-1ee7-471e-a816-9f31d6b749d3",
   "metadata": {},
   "outputs": [
    {
     "name": "stdout",
     "output_type": "stream",
     "text": [
      "iteration =  999\n",
      "elpased time =  6.230870723724365\n",
      "iteration =  1999\n",
      "elpased time =  12.780027627944946\n",
      "iteration =  2999\n",
      "elpased time =  19.992520570755005\n",
      "iteration =  3999\n",
      "elpased time =  27.315507411956787\n",
      "iteration =  4999\n",
      "elpased time =  33.51006054878235\n",
      "iteration =  5999\n",
      "elpased time =  40.59217286109924\n",
      "iteration =  6999\n",
      "elpased time =  46.862659215927124\n",
      "iteration =  7999\n",
      "elpased time =  53.06207466125488\n",
      "iteration =  8999\n",
      "elpased time =  59.414159059524536\n",
      "iteration =  9999\n",
      "elpased time =  65.49494743347168\n",
      "iteration =  10999\n",
      "elpased time =  70.95207691192627\n",
      "iteration =  11999\n",
      "elpased time =  76.77517676353455\n",
      "iteration =  12999\n",
      "elpased time =  82.48530220985413\n",
      "iteration =  13999\n",
      "elpased time =  87.85456895828247\n",
      "iteration =  14999\n",
      "elpased time =  92.99980306625366\n",
      "iteration =  15999\n",
      "elpased time =  97.18642497062683\n",
      "iteration =  16999\n",
      "elpased time =  101.59624791145325\n",
      "iteration =  17999\n",
      "elpased time =  105.99813747406006\n",
      "iteration =  18999\n",
      "elpased time =  110.54512023925781\n",
      "iteration =  19999\n",
      "elpased time =  116.47459244728088\n",
      "iteration =  20999\n",
      "elpased time =  121.48318767547607\n",
      "iteration =  21999\n",
      "elpased time =  126.00085091590881\n",
      "iteration =  22999\n",
      "elpased time =  130.67760396003723\n",
      "finished\n"
     ]
    }
   ],
   "source": [
    "source = np.where(flt_ids == 'LN-172')\n",
    "dest = np.where(flt_ids == 'LN-207')\n",
    "T=2\n",
    "\n",
    "rho_hist = np.zeros(capacities.shape[0],)\n",
    "topo_hist = np.zeros((capacities.shape[0], num_nodes, num_nodes-1))\n",
    "L_k = 48.0\n",
    "\n",
    "start_time = time.time()\n",
    "for i in range(0, capacities.shape[0]):\n",
    "  \n",
    "    rho, topology_vals = singleCommodityFlow(num_nodes, source, dest, L_k, T, capacities[i, :, :])\n",
    "    rho_hist[i] = rho\n",
    "    topo_hist[i] = topology_vals\n",
    "    \n",
    "    if i % 1000 == 999: \n",
    "        print('iteration = ', i)\n",
    "        print('elpased time = ', time.time()-start_time)\n",
    "print('finished')"
   ]
  },
  {
   "cell_type": "code",
   "execution_count": 17,
   "id": "64a9894f-00ab-455c-90fb-17de96abb36b",
   "metadata": {},
   "outputs": [
    {
     "ename": "TypeError",
     "evalue": "unsupported operand type(s) for -: 'tuple' and 'int'",
     "output_type": "error",
     "traceback": [
      "\u001b[0;31m---------------------------------------------------------------------------\u001b[0m",
      "\u001b[0;31mTypeError\u001b[0m                                 Traceback (most recent call last)",
      "Cell \u001b[0;32mIn[17], line 2\u001b[0m\n\u001b[1;32m      1\u001b[0m fname \u001b[38;5;241m=\u001b[39m \u001b[38;5;124m'\u001b[39m\u001b[38;5;124mRho vs. Time Nodes = \u001b[39m\u001b[38;5;132;01m%s\u001b[39;00m\u001b[38;5;124m.png\u001b[39m\u001b[38;5;124m'\u001b[39m \u001b[38;5;241m%\u001b[39m (num_nodes)\n\u001b[0;32m----> 2\u001b[0m fig_title \u001b[38;5;241m=\u001b[39m \u001b[38;5;124m'\u001b[39m\u001b[38;5;124mRho (p) vs. Time for  Source = \u001b[39m\u001b[38;5;132;01m%s\u001b[39;00m\u001b[38;5;124m and Destination = \u001b[39m\u001b[38;5;132;01m%s\u001b[39;00m\u001b[38;5;124m'\u001b[39m \u001b[38;5;241m%\u001b[39m(flt_ids[\u001b[43msource\u001b[49m\u001b[38;5;241;43m-\u001b[39;49m\u001b[38;5;241;43m1\u001b[39;49m], flt_ids[dest\u001b[38;5;241m-\u001b[39m\u001b[38;5;241m1\u001b[39m])\n\u001b[1;32m      4\u001b[0m times \u001b[38;5;241m=\u001b[39m np\u001b[38;5;241m.\u001b[39marange(np\u001b[38;5;241m.\u001b[39mdatetime64(\u001b[38;5;124m'\u001b[39m\u001b[38;5;124m2021-01-01\u001b[39m\u001b[38;5;124m'\u001b[39m),\n\u001b[1;32m      5\u001b[0m                   np\u001b[38;5;241m.\u001b[39mdatetime64(\u001b[38;5;124m'\u001b[39m\u001b[38;5;124m2021-01-18\u001b[39m\u001b[38;5;124m'\u001b[39m), np\u001b[38;5;241m.\u001b[39mtimedelta64(\u001b[38;5;241m1\u001b[39m, \u001b[38;5;124m'\u001b[39m\u001b[38;5;124mm\u001b[39m\u001b[38;5;124m'\u001b[39m))\n\u001b[1;32m      7\u001b[0m times \u001b[38;5;241m=\u001b[39m times[\u001b[38;5;241m1\u001b[39m:capacities\u001b[38;5;241m.\u001b[39mshape[\u001b[38;5;241m0\u001b[39m]\u001b[38;5;241m+\u001b[39m\u001b[38;5;241m1\u001b[39m]\n",
      "\u001b[0;31mTypeError\u001b[0m: unsupported operand type(s) for -: 'tuple' and 'int'"
     ]
    }
   ],
   "source": [
    "fname = 'Rho vs. Time Nodes = %s.png' % (num_nodes)\n",
    "fig_title = 'Rho (p) vs. Time for  Source = %s and Destination = %s' %(flt_ids[source-1], flt_ids[dest-1])\n",
    "\n",
    "times = np.arange(np.datetime64('2021-01-01'),\n",
    "                  np.datetime64('2021-01-18'), np.timedelta64(1, 'm'))\n",
    "\n",
    "times = times[1:capacities.shape[0]+1]\n",
    "\n",
    "fig, ax = plt.subplots()\n",
    "ax.set_xlabel('Time (days)')\n",
    "ax.set_ylabel(r\"$\\rho$\")\n",
    "ax.set_title(fig_title, pad=15)\n",
    "\n",
    "ax.plot(times, rho_hist, label ='p')\n",
    "ax.tick_params(axis='x', labelrotation = 45)\n",
    "plt.savefig(fname, dpi = 300, bbox_inches='tight')"
   ]
  },
  {
   "cell_type": "code",
   "execution_count": 19,
   "id": "ad7bca51-1182-4741-b61b-4e7ed56454e4",
   "metadata": {},
   "outputs": [
    {
     "data": {
      "text/plain": [
       "array([0])"
      ]
     },
     "execution_count": 19,
     "metadata": {},
     "output_type": "execute_result"
    }
   ],
   "source": [
    "source[0]"
   ]
  }
 ],
 "metadata": {
  "kernelspec": {
   "display_name": "Python 3 (ipykernel)",
   "language": "python",
   "name": "python3"
  },
  "language_info": {
   "codemirror_mode": {
    "name": "ipython",
    "version": 3
   },
   "file_extension": ".py",
   "mimetype": "text/x-python",
   "name": "python",
   "nbconvert_exporter": "python",
   "pygments_lexer": "ipython3",
   "version": "3.9.2"
  }
 },
 "nbformat": 4,
 "nbformat_minor": 5
}
